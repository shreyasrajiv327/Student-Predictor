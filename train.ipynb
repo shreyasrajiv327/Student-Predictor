{
 "cells": [
  {
   "cell_type": "code",
   "execution_count": 2,
   "metadata": {},
   "outputs": [
    {
     "name": "stderr",
     "output_type": "stream",
     "text": [
      "WARNING:absl:At this time, the v2.11+ optimizer `tf.keras.optimizers.Adam` runs slowly on M1/M2 Macs, please use the legacy Keras optimizer instead, located at `tf.keras.optimizers.legacy.Adam`.\n",
      "WARNING:absl:There is a known slowdown when using v2.11+ Keras optimizers on M1/M2 Macs. Falling back to the legacy Keras optimizer, i.e., `tf.keras.optimizers.legacy.Adam`.\n"
     ]
    },
    {
     "name": "stdout",
     "output_type": "stream",
     "text": [
      "Epoch 1/50\n",
      "64/64 [==============================] - 0s 2ms/step - loss: 0.4991 - accuracy: 0.7972 - val_loss: 0.3583 - val_accuracy: 0.8605\n",
      "Epoch 2/50\n",
      "64/64 [==============================] - 0s 743us/step - loss: 0.3078 - accuracy: 0.8853 - val_loss: 0.2896 - val_accuracy: 0.9136\n",
      "Epoch 3/50\n",
      "64/64 [==============================] - 0s 758us/step - loss: 0.2530 - accuracy: 0.9060 - val_loss: 0.2668 - val_accuracy: 0.9077\n",
      "Epoch 4/50\n",
      "64/64 [==============================] - 0s 756us/step - loss: 0.2286 - accuracy: 0.9149 - val_loss: 0.2649 - val_accuracy: 0.9096\n",
      "Epoch 5/50\n",
      "64/64 [==============================] - 0s 745us/step - loss: 0.2131 - accuracy: 0.9222 - val_loss: 0.2612 - val_accuracy: 0.9077\n",
      "Epoch 6/50\n",
      "64/64 [==============================] - 0s 716us/step - loss: 0.2014 - accuracy: 0.9262 - val_loss: 0.2605 - val_accuracy: 0.9018\n",
      "Epoch 7/50\n",
      "64/64 [==============================] - 0s 709us/step - loss: 0.1947 - accuracy: 0.9316 - val_loss: 0.2599 - val_accuracy: 0.9096\n",
      "Epoch 8/50\n",
      "64/64 [==============================] - 0s 693us/step - loss: 0.1879 - accuracy: 0.9321 - val_loss: 0.2622 - val_accuracy: 0.9037\n",
      "Epoch 9/50\n",
      "64/64 [==============================] - 0s 689us/step - loss: 0.1804 - accuracy: 0.9385 - val_loss: 0.2615 - val_accuracy: 0.9116\n",
      "Epoch 10/50\n",
      "64/64 [==============================] - 0s 711us/step - loss: 0.1751 - accuracy: 0.9375 - val_loss: 0.2634 - val_accuracy: 0.9096\n",
      "Epoch 11/50\n",
      "64/64 [==============================] - 0s 718us/step - loss: 0.1694 - accuracy: 0.9395 - val_loss: 0.2648 - val_accuracy: 0.9077\n",
      "Epoch 12/50\n",
      "64/64 [==============================] - 0s 733us/step - loss: 0.1669 - accuracy: 0.9405 - val_loss: 0.2721 - val_accuracy: 0.9057\n",
      "Epoch 13/50\n",
      "64/64 [==============================] - 0s 765us/step - loss: 0.1609 - accuracy: 0.9424 - val_loss: 0.2659 - val_accuracy: 0.9018\n",
      "Epoch 14/50\n",
      "64/64 [==============================] - 0s 796us/step - loss: 0.1566 - accuracy: 0.9454 - val_loss: 0.2707 - val_accuracy: 0.8978\n",
      "Epoch 15/50\n",
      "64/64 [==============================] - 0s 755us/step - loss: 0.1548 - accuracy: 0.9449 - val_loss: 0.2779 - val_accuracy: 0.8939\n",
      "Epoch 16/50\n",
      "64/64 [==============================] - 0s 757us/step - loss: 0.1479 - accuracy: 0.9493 - val_loss: 0.2748 - val_accuracy: 0.8959\n",
      "Epoch 17/50\n",
      "64/64 [==============================] - 0s 749us/step - loss: 0.1462 - accuracy: 0.9469 - val_loss: 0.2813 - val_accuracy: 0.8939\n",
      "Epoch 18/50\n",
      "64/64 [==============================] - 0s 749us/step - loss: 0.1408 - accuracy: 0.9532 - val_loss: 0.2797 - val_accuracy: 0.8959\n",
      "Epoch 19/50\n",
      "64/64 [==============================] - 0s 708us/step - loss: 0.1365 - accuracy: 0.9557 - val_loss: 0.2830 - val_accuracy: 0.8978\n",
      "Epoch 20/50\n",
      "64/64 [==============================] - 0s 705us/step - loss: 0.1335 - accuracy: 0.9532 - val_loss: 0.2906 - val_accuracy: 0.8978\n",
      "Epoch 21/50\n",
      "64/64 [==============================] - 0s 701us/step - loss: 0.1333 - accuracy: 0.9547 - val_loss: 0.2917 - val_accuracy: 0.8978\n",
      "Epoch 22/50\n",
      "64/64 [==============================] - 0s 706us/step - loss: 0.1279 - accuracy: 0.9582 - val_loss: 0.2949 - val_accuracy: 0.8919\n",
      "Epoch 23/50\n",
      "64/64 [==============================] - 0s 701us/step - loss: 0.1257 - accuracy: 0.9596 - val_loss: 0.2955 - val_accuracy: 0.8939\n",
      "Epoch 24/50\n",
      "64/64 [==============================] - 0s 714us/step - loss: 0.1219 - accuracy: 0.9606 - val_loss: 0.3030 - val_accuracy: 0.8978\n",
      "Epoch 25/50\n",
      "64/64 [==============================] - 0s 748us/step - loss: 0.1183 - accuracy: 0.9601 - val_loss: 0.3018 - val_accuracy: 0.8959\n",
      "Epoch 26/50\n",
      "64/64 [==============================] - 0s 775us/step - loss: 0.1148 - accuracy: 0.9616 - val_loss: 0.3090 - val_accuracy: 0.8919\n",
      "Epoch 27/50\n",
      "64/64 [==============================] - 0s 763us/step - loss: 0.1128 - accuracy: 0.9621 - val_loss: 0.3109 - val_accuracy: 0.8900\n",
      "Epoch 28/50\n",
      "64/64 [==============================] - 0s 764us/step - loss: 0.1084 - accuracy: 0.9641 - val_loss: 0.3177 - val_accuracy: 0.8900\n",
      "Epoch 29/50\n",
      "64/64 [==============================] - 0s 747us/step - loss: 0.1055 - accuracy: 0.9665 - val_loss: 0.3186 - val_accuracy: 0.8900\n",
      "Epoch 30/50\n",
      "64/64 [==============================] - 0s 714us/step - loss: 0.1042 - accuracy: 0.9641 - val_loss: 0.3314 - val_accuracy: 0.8821\n",
      "Epoch 31/50\n",
      "64/64 [==============================] - 0s 711us/step - loss: 0.1032 - accuracy: 0.9670 - val_loss: 0.3241 - val_accuracy: 0.8880\n",
      "Epoch 32/50\n",
      "64/64 [==============================] - 0s 716us/step - loss: 0.0975 - accuracy: 0.9685 - val_loss: 0.3357 - val_accuracy: 0.8900\n",
      "Epoch 33/50\n",
      "64/64 [==============================] - 0s 705us/step - loss: 0.0931 - accuracy: 0.9705 - val_loss: 0.3334 - val_accuracy: 0.8919\n",
      "Epoch 34/50\n",
      "64/64 [==============================] - 0s 717us/step - loss: 0.0927 - accuracy: 0.9705 - val_loss: 0.3381 - val_accuracy: 0.8880\n",
      "Epoch 35/50\n",
      "64/64 [==============================] - 0s 724us/step - loss: 0.0912 - accuracy: 0.9710 - val_loss: 0.3446 - val_accuracy: 0.8880\n",
      "Epoch 36/50\n",
      "64/64 [==============================] - 0s 762us/step - loss: 0.0901 - accuracy: 0.9705 - val_loss: 0.3532 - val_accuracy: 0.8861\n",
      "Epoch 37/50\n",
      "64/64 [==============================] - 0s 759us/step - loss: 0.0857 - accuracy: 0.9744 - val_loss: 0.3529 - val_accuracy: 0.8880\n",
      "Epoch 38/50\n",
      "64/64 [==============================] - 0s 748us/step - loss: 0.0819 - accuracy: 0.9715 - val_loss: 0.3519 - val_accuracy: 0.8841\n",
      "Epoch 39/50\n",
      "64/64 [==============================] - 0s 714us/step - loss: 0.0804 - accuracy: 0.9754 - val_loss: 0.3566 - val_accuracy: 0.8841\n",
      "Epoch 40/50\n",
      "64/64 [==============================] - 0s 705us/step - loss: 0.0769 - accuracy: 0.9759 - val_loss: 0.3595 - val_accuracy: 0.8861\n",
      "Epoch 41/50\n",
      "64/64 [==============================] - 0s 711us/step - loss: 0.0777 - accuracy: 0.9734 - val_loss: 0.3665 - val_accuracy: 0.8861\n",
      "Epoch 42/50\n",
      "64/64 [==============================] - 0s 706us/step - loss: 0.0734 - accuracy: 0.9779 - val_loss: 0.3756 - val_accuracy: 0.8861\n",
      "Epoch 43/50\n",
      "64/64 [==============================] - 0s 716us/step - loss: 0.0710 - accuracy: 0.9779 - val_loss: 0.3716 - val_accuracy: 0.8880\n",
      "Epoch 44/50\n",
      "64/64 [==============================] - 0s 702us/step - loss: 0.0660 - accuracy: 0.9798 - val_loss: 0.3886 - val_accuracy: 0.8900\n",
      "Epoch 45/50\n",
      "64/64 [==============================] - 0s 711us/step - loss: 0.0645 - accuracy: 0.9808 - val_loss: 0.3851 - val_accuracy: 0.8861\n",
      "Epoch 46/50\n",
      "64/64 [==============================] - 0s 724us/step - loss: 0.0661 - accuracy: 0.9793 - val_loss: 0.3984 - val_accuracy: 0.8841\n",
      "Epoch 47/50\n",
      "64/64 [==============================] - 0s 715us/step - loss: 0.0655 - accuracy: 0.9779 - val_loss: 0.4015 - val_accuracy: 0.8782\n",
      "Epoch 48/50\n",
      "64/64 [==============================] - 0s 733us/step - loss: 0.0599 - accuracy: 0.9823 - val_loss: 0.3985 - val_accuracy: 0.8821\n",
      "Epoch 49/50\n",
      "64/64 [==============================] - 0s 753us/step - loss: 0.0557 - accuracy: 0.9823 - val_loss: 0.4062 - val_accuracy: 0.8861\n",
      "Epoch 50/50\n",
      "64/64 [==============================] - 0s 759us/step - loss: 0.0540 - accuracy: 0.9838 - val_loss: 0.4128 - val_accuracy: 0.8841\n",
      "35/35 [==============================] - 0s 319us/step\n",
      "Accuracy: 89.16%\n",
      "Classification Report:\n",
      "              precision    recall  f1-score   support\n",
      "\n",
      "     Dropout       0.87      0.84      0.85       414\n",
      "    Graduate       0.90      0.92      0.91       675\n",
      "\n",
      "    accuracy                           0.89      1089\n",
      "   macro avg       0.89      0.88      0.88      1089\n",
      "weighted avg       0.89      0.89      0.89      1089\n",
      "\n"
     ]
    },
    {
     "data": {
      "image/png": "[encoded data removed]",
      "text/plain": [
       "<Figure size 800x600 with 2 Axes>"
      ]
     },
     "metadata": {},
     "output_type": "display_data"
    },
    {
     "name": "stdout",
     "output_type": "stream",
     "text": [
      "F1-Score: 0.91\n"
     ]
    },
    {
     "data": {
      "image/png": "[encoded data removed]",
      "text/plain": [
       "<Figure size 800x600 with 1 Axes>"
      ]
     },
     "metadata": {},
     "output_type": "display_data"
    },
    {
     "name": "stdout",
     "output_type": "stream",
     "text": [
      "INFO:tensorflow:Assets written to: /var/folders/ws/60zc0ycd1p73wjpc889xjcl80000gn/T/tmpvjfgogzb/assets\n"
     ]
    },
    {
     "name": "stderr",
     "output_type": "stream",
     "text": [
      "INFO:tensorflow:Assets written to: /var/folders/ws/60zc0ycd1p73wjpc889xjcl80000gn/T/tmpvjfgogzb/assets\n"
     ]
    },
    {
     "name": "stdout",
     "output_type": "stream",
     "text": [
      "Model has been saved as 'student_classification_model.h5' and converted to 'student_classification_model.tflite'\n"
     ]
    },
    {
     "name": "stderr",
     "output_type": "stream",
     "text": [
      "2024-11-13 21:08:24.195291: W tensorflow/compiler/mlir/lite/python/tf_tfl_flatbuffer_helpers.cc:364] Ignored output_format.\n",
      "2024-11-13 21:08:24.195304: W tensorflow/compiler/mlir/lite/python/tf_tfl_flatbuffer_helpers.cc:367] Ignored drop_control_dependency.\n",
      "2024-11-13 21:08:24.195423: I tensorflow/cc/saved_model/reader.cc:45] Reading SavedModel from: /var/folders/ws/60zc0ycd1p73wjpc889xjcl80000gn/T/tmpvjfgogzb\n",
      "2024-11-13 21:08:24.196124: I tensorflow/cc/saved_model/reader.cc:89] Reading meta graph with tags { serve }\n",
      "2024-11-13 21:08:24.196129: I tensorflow/cc/saved_model/reader.cc:130] Reading SavedModel debug info (if present) from: /var/folders/ws/60zc0ycd1p73wjpc889xjcl80000gn/T/tmpvjfgogzb\n",
      "2024-11-13 21:08:24.199039: I tensorflow/cc/saved_model/loader.cc:231] Restoring SavedModel bundle.\n",
      "2024-11-13 21:08:24.230453: I tensorflow/cc/saved_model/loader.cc:215] Running initialization op on SavedModel bundle at path: /var/folders/ws/60zc0ycd1p73wjpc889xjcl80000gn/T/tmpvjfgogzb\n",
      "2024-11-13 21:08:24.237875: I tensorflow/cc/saved_model/loader.cc:314] SavedModel load for tags { serve }; Status: success: OK. Took 42453 microseconds.\n"
     ]
    }
   ],
   "source": [
    "import pandas as pd\n",
    "from sklearn.model_selection import train_test_split\n",
    "from sklearn.preprocessing import StandardScaler, LabelEncoder\n",
    "from tensorflow.keras.models import Sequential\n",
    "from tensorflow.keras.layers import Dense\n",
    "from tensorflow.keras.optimizers import Adam\n",
    "from tensorflow.keras.losses import BinaryCrossentropy\n",
    "from sklearn.metrics import accuracy_score, classification_report, confusion_matrix\n",
    "import tensorflow as tf\n",
    "import matplotlib.pyplot as plt\n",
    "import seaborn as sns\n",
    "\n",
    "# Load the dataset\n",
    "data = pd.read_csv('/Users/shreyasr/Documents/Projects/Iot_Project/CP-3_Project/test.csv')\n",
    "\n",
    "# Encode the target variable (convert 'Graduate'/'Dropout' to 1/0)\n",
    "label_encoder = LabelEncoder()\n",
    "data['Target'] = label_encoder.fit_transform(data['Target'])\n",
    "\n",
    "# Separate features and target\n",
    "X = data.drop(columns=['Target'])\n",
    "y = data['Target']\n",
    "\n",
    "# Split the data into training and testing sets\n",
    "X_train, X_test, y_train, y_test = train_test_split(X, y, test_size=0.3, random_state=42)\n",
    "\n",
    "# Standardize the feature data\n",
    "scaler = StandardScaler()\n",
    "X_train = scaler.fit_transform(X_train)\n",
    "X_test = scaler.transform(X_test)\n",
    "\n",
    "# Build the neural network\n",
    "model = Sequential([\n",
    "    Dense(64, input_shape=(X_train.shape[1],), activation='relu'),   # First hidden layer\n",
    "    Dense(32, activation='relu'),                                    # Second hidden layer\n",
    "    Dense(1, activation='sigmoid')                                   # Output layer with sigmoid for binary classification\n",
    "])\n",
    "\n",
    "# Compile the model\n",
    "model.compile(optimizer=Adam(learning_rate=0.001),\n",
    "              loss=BinaryCrossentropy(),\n",
    "              metrics=['accuracy'])\n",
    "\n",
    "# Train the model\n",
    "history = model.fit(X_train, y_train, epochs=50, batch_size=32, validation_split=0.2, verbose=1)\n",
    "\n",
    "# Make predictions on the test set\n",
    "y_pred_prob = model.predict(X_test)\n",
    "y_pred = (y_pred_prob > 0.5).astype(int).flatten()  # Convert probabilities to binary predictions\n",
    "\n",
    "# Evaluate the model\n",
    "accuracy = accuracy_score(y_test, y_pred)\n",
    "print(f\"Accuracy: {accuracy * 100:.2f}%\")\n",
    "\n",
    "# Print Classification Report\n",
    "print(\"Classification Report:\")\n",
    "print(classification_report(y_test, y_pred, target_names=label_encoder.classes_))\n",
    "\n",
    "# Confusion Matrix\n",
    "cm = confusion_matrix(y_test, y_pred)\n",
    "plt.figure(figsize=(8, 6))\n",
    "sns.heatmap(cm, annot=True, fmt='d', cmap='Blues', xticklabels=label_encoder.classes_, yticklabels=label_encoder.classes_)\n",
    "plt.title(\"Confusion Matrix\")\n",
    "plt.xlabel(\"Predicted Label\")\n",
    "plt.ylabel(\"True Label\")\n",
    "plt.show()\n",
    "\n",
    "# F1-Score visualization (for both classes)\n",
    "from sklearn.metrics import f1_score\n",
    "f1 = f1_score(y_test, y_pred)\n",
    "print(f\"F1-Score: {f1:.2f}\")\n",
    "\n",
    "# Plot the F1-Score for the two classes\n",
    "f1_scores = [f1_score(y_test, y_pred, pos_label=0), f1_score(y_test, y_pred, pos_label=1)]\n",
    "classes = label_encoder.classes_\n",
    "\n",
    "plt.figure(figsize=(8, 6))\n",
    "plt.bar(classes, f1_scores, color='orange')\n",
    "plt.title(\"F1-Score per Class\")\n",
    "plt.ylabel(\"F1-Score\")\n",
    "plt.xlabel(\"Classes\")\n",
    "plt.show()\n",
    "\n",
    "# Save the trained model as a .h5 file\n",
    "model.save('student_classification_model.h5')\n",
    "\n",
    "# Convert the .h5 model to a TensorFlow Lite model\n",
    "converter = tf.lite.TFLiteConverter.from_keras_model(model)\n",
    "tflite_model = converter.convert()\n",
    "\n",
    "# Save the TensorFlow Lite model\n",
    "with open('student_classification_model.tflite', 'wb') as f:\n",
    "    f.write(tflite_model)\n",
    "\n",
    "print(\"Model has been saved as 'student_classification_model.h5' and converted to 'student_classification_model.tflite'\")\n"
   ]
  },
  {
   "cell_type": "code",
   "execution_count": 3,
   "metadata": {},
   "outputs": [
    {
     "name": "stdout",
     "output_type": "stream",
     "text": [
      "Collecting seaborn\n",
      "  Downloading seaborn-0.13.2-py3-none-any.whl.metadata (5.4 kB)\n",
      "Requirement already satisfied: numpy!=1.24.0,>=1.20 in /Users/shreyasr/anaconda3/envs/IOT/lib/python3.8/site-packages (from seaborn) (1.23.5)\n",
      "Requirement already satisfied: pandas>=1.2 in /Users/shreyasr/anaconda3/envs/IOT/lib/python3.8/site-packages (from seaborn) (2.0.3)\n",
      "Requirement already satisfied: matplotlib!=3.6.1,>=3.4 in /Users/shreyasr/anaconda3/envs/IOT/lib/python3.8/site-packages (from seaborn) (3.7.2)\n",
      "Requirement already satisfied: contourpy>=1.0.1 in /Users/shreyasr/anaconda3/envs/IOT/lib/python3.8/site-packages (from matplotlib!=3.6.1,>=3.4->seaborn) (1.0.5)\n",
      "Requirement already satisfied: cycler>=0.10 in /Users/shreyasr/anaconda3/envs/IOT/lib/python3.8/site-packages (from matplotlib!=3.6.1,>=3.4->seaborn) (0.12.1)\n",
      "Requirement already satisfied: fonttools>=4.22.0 in /Users/shreyasr/anaconda3/envs/IOT/lib/python3.8/site-packages (from matplotlib!=3.6.1,>=3.4->seaborn) (4.51.0)\n",
      "Requirement already satisfied: kiwisolver>=1.0.1 in /Users/shreyasr/anaconda3/envs/IOT/lib/python3.8/site-packages (from matplotlib!=3.6.1,>=3.4->seaborn) (1.4.4)\n",
      "Requirement already satisfied: packaging>=20.0 in /Users/shreyasr/anaconda3/envs/IOT/lib/python3.8/site-packages (from matplotlib!=3.6.1,>=3.4->seaborn) (24.1)\n",
      "Requirement already satisfied: pillow>=6.2.0 in /Users/shreyasr/anaconda3/envs/IOT/lib/python3.8/site-packages (from matplotlib!=3.6.1,>=3.4->seaborn) (10.4.0)\n",
      "Requirement already satisfied: pyparsing<3.1,>=2.3.1 in /Users/shreyasr/anaconda3/envs/IOT/lib/python3.8/site-packages (from matplotlib!=3.6.1,>=3.4->seaborn) (3.0.9)\n",
      "Requirement already satisfied: python-dateutil>=2.7 in /Users/shreyasr/anaconda3/envs/IOT/lib/python3.8/site-packages (from matplotlib!=3.6.1,>=3.4->seaborn) (2.9.0)\n",
      "Requirement already satisfied: importlib-resources>=3.2.0 in /Users/shreyasr/anaconda3/envs/IOT/lib/python3.8/site-packages (from matplotlib!=3.6.1,>=3.4->seaborn) (6.4.5)\n",
      "Requirement already satisfied: pytz>=2020.1 in /Users/shreyasr/anaconda3/envs/IOT/lib/python3.8/site-packages (from pandas>=1.2->seaborn) (2024.2)\n",
      "Requirement already satisfied: tzdata>=2022.1 in /Users/shreyasr/anaconda3/envs/IOT/lib/python3.8/site-packages (from pandas>=1.2->seaborn) (2024.2)\n",
      "Requirement already satisfied: zipp>=3.1.0 in /Users/shreyasr/anaconda3/envs/IOT/lib/python3.8/site-packages (from importlib-resources>=3.2.0->matplotlib!=3.6.1,>=3.4->seaborn) (3.20.2)\n",
      "Requirement already satisfied: six>=1.5 in /Users/shreyasr/anaconda3/envs/IOT/lib/python3.8/site-packages (from python-dateutil>=2.7->matplotlib!=3.6.1,>=3.4->seaborn) (1.16.0)\n",
      "Downloading seaborn-0.13.2-py3-none-any.whl (294 kB)\n",
      "Installing collected packages: seaborn\n",
      "Successfully installed seaborn-0.13.2\n"
     ]
    }
   ],
   "source": [
    "!pip install seaborn"
   ]
  },
  {
   "cell_type": "code",
   "execution_count": 7,
   "metadata": {},
   "outputs": [
    {
     "name": "stderr",
     "output_type": "stream",
     "text": [
      "INFO: Initialized TensorFlow Lite runtime.\n",
      "INFO: Applying 1 TensorFlow Lite delegate(s) lazily.\n",
      "INFO: Created TensorFlow Lite XNNPACK delegate for CPU.\n",
      "VERBOSE: Replacing 4 node(s) with delegate (TfLiteXNNPackDelegate) node, yielding 1 partitions for the whole graph.\n",
      "INFO: Successfully applied the default TensorFlow Lite delegate indexed at 0.\n",
      " *NOTE*: because a delegate has been applied, the precision of computations should be unchanged, but the exact output tensor values may have changed. If such output values are checked in your code, like in your tests etc., please consider increasing error tolerance for the check.\n"
     ]
    }
   ],
   "source": [
    "interpreter = tf.lite.Interpreter(model_path=\"/Users/shreyasr/Documents/Projects/Iot_Project/CP-3_Project/student_classification_model.tflite\")\n",
    "interpreter.allocate_tensors()"
   ]
  },
  {
   "cell_type": "code",
   "execution_count": 8,
   "metadata": {},
   "outputs": [
    {
     "name": "stdout",
     "output_type": "stream",
     "text": [
      "input_details:\n",
      " [{'name': 'serving_default_dense_6_input:0', 'index': 0, 'shape': array([ 1, 34], dtype=int32), 'shape_signature': array([-1, 34], dtype=int32), 'dtype': <class 'numpy.float32'>, 'quantization': (0.0, 0), 'quantization_parameters': {'scales': array([], dtype=float32), 'zero_points': array([], dtype=int32), 'quantized_dimension': 0}, 'sparsity_parameters': {}}]\n",
      "output_details:\n",
      " [{'name': 'StatefulPartitionedCall:0', 'index': 10, 'shape': array([1, 1], dtype=int32), 'shape_signature': array([-1,  1], dtype=int32), 'dtype': <class 'numpy.float32'>, 'quantization': (0.0, 0), 'quantization_parameters': {'scales': array([], dtype=float32), 'zero_points': array([], dtype=int32), 'quantized_dimension': 0}, 'sparsity_parameters': {}}]\n"
     ]
    }
   ],
   "source": [
    "\n",
    "input_details = interpreter.get_input_details()\n",
    "output_details = interpreter.get_output_details()\n",
    "print('input_details:\\n', input_details)\n",
    "print('output_details:\\n', output_details)"
   ]
  },
  {
   "cell_type": "code",
   "execution_count": 9,
   "metadata": {},
   "outputs": [
    {
     "name": "stdout",
     "output_type": "stream",
     "text": [
      "[[0.37478372 0.48700925 0.21850294 0.74456009 0.73374087 0.6445911\n",
      "  0.82650902 0.98138443 0.33329533 0.13252349 0.18074818 0.61664602\n",
      "  0.32942468 0.28030244 0.20589298 0.2911471  0.93164077 0.74159322\n",
      "  0.13409714 0.52035497 0.90629113 0.36312211 0.6602414  0.01629143\n",
      "  0.35249996 0.94344319 0.21013633 0.16853142 0.12005974 0.49155332\n",
      "  0.31458121 0.42918321 0.50344148 0.24328057]]\n",
      "[[0.6663018]]\n"
     ]
    }
   ],
   "source": [
    "\n",
    "input_shape = input_details[0]['shape']\n",
    "input_data = np.random.random_sample(input_shape)\n",
    "print(input_data)\n",
    "input_data = np.array(input_data, dtype=np.float32)\n",
    "interpreter.set_tensor(input_details[0]['index'], input_data)\n",
    "\n",
    "interpreter.invoke()\n",
    "\n",
    "output_data = interpreter.get_tensor(output_details[0]['index'])\n",
    "print(output_data)"
   ]
  },
  {
   "cell_type": "code",
   "execution_count": 10,
   "metadata": {},
   "outputs": [
    {
     "name": "stdout",
     "output_type": "stream",
     "text": [
      "1/1 [==============================] - 0s 9ms/step\n",
      "[[0.6663017]]\n"
     ]
    }
   ],
   "source": [
    "\n",
    "output_data = model.predict(input_data)\n",
    "print(output_data)"
   ]
  },
  {
   "cell_type": "code",
   "execution_count": null,
   "metadata": {},
   "outputs": [],
   "source": [
    "import time\n",
    "\n",
    "def hex_to_c_array(hex_data, var_name=\"student_model_data\"):\n",
    "    \"\"\"Convert hex data to a C array representation.\"\"\"\n",
    "\n",
    "    c_str = '#ifndef ' + var_name.upper() + '_H\\n'\n",
    "    c_str += '#define ' + var_name.upper() + '_H\\n\\n'\n",
    "    c_str += '/* Generated from TensorFlow Lite model */\\n'\n",
    "    \n",
    "    localtime = time.asctime(time.localtime(time.time()))\n",
    "    c_str += f\"// Generated on {localtime}\\n\\n\"\n",
    "    \n",
    " \n",
    "    c_str += f\"const unsigned int {var_name}_len = {len(hex_data)};\\n\"\n",
    "    c_str += f\"const unsigned char {var_name}[] = {{\\n\"\n",
    "    \n",
    "  \n",
    "    hex_lines = []\n",
    "    for i, val in enumerate(hex_data):\n",
    "        hex_str = f'0x{val:02x}'\n",
    "        if i < len(hex_data) - 1:\n",
    "            hex_str += ','\n",
    "        if (i + 1) % 12 == 0:\n",
    "            hex_str += '\\n'\n",
    "        hex_lines.append(hex_str)\n",
    "    c_str += '\\n'.join(hex_lines) + '\\n};\\n\\n'\n",
    "    \n",
    "    # Close header guard\n",
    "    c_str += '#endif // ' + var_name.upper() + '_H\\n'\n",
    "    \n",
    "    return c_str\n"
   ]
  },
  {
   "cell_type": "code",
   "execution_count": 12,
   "metadata": {},
   "outputs": [
    {
     "name": "stdout",
     "output_type": "stream",
     "text": [
      "Generated C array code:\n",
      "#ifndef STUDENT_MODEL_H\n",
      "#define STUDENT_MODEL_H\n",
      "\n",
      "/* Generated from TensorFlow Lite model */\n",
      "// Generated on Wed Nov 13 10:26:47 2024\n",
      "\n",
      "const unsigned int student_model_len = 19504;\n",
      "const unsigned char student_model[] = {\n",
      "0x1c,\n",
      "0x00,\n",
      "0x00,\n",
      "0x00,\n",
      "0x54,\n",
      "0x46,\n",
      "0x4c,\n",
      "0x33,\n",
      "0x14,\n",
      "0x00,\n",
      "0x20,\n",
      "0x00,\n",
      "\n",
      "0x1c,\n",
      "0x00,\n",
      "0x18,\n",
      "0x00,\n",
      "0x14,\n",
      "0x00,\n",
      "0x10,\n",
      "0x00,\n",
      "0x0c,\n",
      "0x00,\n",
      "0x00,\n",
      "0x00,\n",
      "\n",
      "0x08,\n",
      "0x00,\n",
      "0x04,\n",
      "0x00,\n",
      "0x14,\n",
      "0x00,\n",
      "0x00,\n",
      "0x00,\n",
      "0x1c,\n",
      "0x00,\n",
      "0x00,\n",
      "0x00,\n",
      "\n",
      "0x88,\n",
      "0x00,\n",
      "0x00,\n",
      "0x00,\n",
      "0xe0,\n",
      "0x00,\n",
      "0x00,\n",
      "0x00,\n",
      "0x00,\n",
      "0x46,\n",
      "0\n"
     ]
    }
   ],
   "source": [
    "\n",
    "with open(\"student_classification_model.tflite\", \"rb\") as f:\n",
    "    hex_data = f.read()\n",
    "    \n",
    "\n",
    "c_code = hex_to_c_array(hex_data, \"student_model\")\n",
    "print(\"Generated C array code:\")\n",
    "print(c_code[:500])  \n"
   ]
  },
  {
   "cell_type": "code",
   "execution_count": 13,
   "metadata": {},
   "outputs": [
    {
     "name": "stdout",
     "output_type": "stream",
     "text": [
      "C array written to 'student_model_data101.h'\n"
     ]
    }
   ],
   "source": [
    "# Write the C array to a header file\n",
    "with open(\"student_model_data101.h\", \"w\") as f:\n",
    "    f.write(c_code)\n",
    "\n",
    "print(\"C array written to 'student_model_data101.h'\")"
   ]
  }
 ],
 "metadata": {
  "kernelspec": {
   "display_name": "IOT",
   "language": "python",
   "name": "python3"
  },
  "language_info": {
   "codemirror_mode": {
    "name": "ipython",
    "version": 3
   },
   "file_extension": ".py",
   "mimetype": "text/x-python",
   "name": "python",
   "nbconvert_exporter": "python",
   "pygments_lexer": "ipython3",
   "version": "3.8.18"
  }
 },
 "nbformat": 4,
 "nbformat_minor": 2
}
